{
 "cells": [
  {
   "cell_type": "code",
   "execution_count": null,
   "id": "4538c9a5",
   "metadata": {},
   "outputs": [],
   "source": [
    "import pandas as pd \n",
    "import os\n",
    "import openslide "
   ]
  },
  {
   "cell_type": "code",
   "execution_count": null,
   "id": "4f29c290",
   "metadata": {},
   "outputs": [],
   "source": [
    "df = pd.DataFrame(columns=['id', 'he_slide', 'cy_slide', 'qtree'])"
   ]
  },
  {
   "cell_type": "code",
   "execution_count": null,
   "id": "4af04810",
   "metadata": {},
   "outputs": [],
   "source": [
    "files = next(os.walk(\"/home/heckerm/data/CK/\"))[2]\n",
    "files"
   ]
  },
  {
   "cell_type": "code",
   "execution_count": null,
   "id": "c0cd095f",
   "metadata": {},
   "outputs": [],
   "source": [
    "#Wrong registration or wrong staining \n",
    "files.remove(\"K6627_20_CK.mrxs\")\n",
    "files.remove(\"K6627_20_HE.mrxs\") \n",
    "\n",
    "files.remove(\"K6922_20_2_CK.mrxs\")\n",
    "files.remove(\"K6922_20_2_HE.mrxs\") \n",
    "\n",
    "files.remove(\"T6168_17_CK.mrxs\")\n",
    "files.remove(\"T6168_17_HE.mrxs\") \n",
    "\n",
    "files.remove(\"T5736_21_1-3_HE.mrxs\")\n",
    "files.remove(\"T5736_21_1-3_CK.mrxs\") \n",
    "\n",
    "files.remove(\"R6080_17_HE.mrxs\")\n",
    "files.remove(\"R6080_17_CK.mrxs\")  \n",
    "\n",
    "files.remove(\"R5050_19_HE.mrxs\")\n",
    "files.remove(\"R5050_19_CK.mrxs\")\n",
    "\n",
    "files.remove(\"G6771_18_HE.mrxs\")\n",
    "files.remove(\"G6771_18_CK.mrxs\") \n",
    "\n",
    "files.remove(\"R6826_20_HE.mrxs\")\n",
    "files.remove(\"R6826_20_CK.mrxs\")  \n",
    "\n",
    "files.remove(\"V5270_20_d_HE.mrxs\")\n",
    "files.remove(\"V5270_20_d_CK.mrxs\")\n",
    "\n",
    "files.remove(\"G6410_17_HE.mrxs\")\n",
    "files.remove(\"G6410_17_CK.mrxs\") \n",
    "\n",
    "files.remove(\"K7060_19_2-1_HE.mrxs\")\n",
    "files.remove(\"K7060_19_2-1_CK.mrxs\")\n",
    "\n",
    "files.remove(\"T5259_21_HE.mrxs\")\n",
    "files.remove(\"T5259_21_CK.mrxs\") \n",
    "\n",
    "files.remove(\"T5677_21_HE.mrxs\")\n",
    "files.remove(\"T5677_21_CK.mrxs\")"
   ]
  },
  {
   "cell_type": "code",
   "execution_count": null,
   "id": "7f9ca839",
   "metadata": {},
   "outputs": [],
   "source": [
    "registrations = next(os.walk(\"/home/heckerm/bachelor/registration/\"))[2]"
   ]
  },
  {
   "cell_type": "code",
   "execution_count": null,
   "id": "9fb64df0",
   "metadata": {},
   "outputs": [],
   "source": [
    "qtrees = list()"
   ]
  },
  {
   "cell_type": "code",
   "execution_count": null,
   "id": "10da08b9",
   "metadata": {},
   "outputs": [],
   "source": [
    "for real_qtree in registrations:\n",
    "    if '.p' in real_qtree and not '.py' in real_qtree and \"CY+HE\" in real_qtree:\n",
    "        qtrees.append(real_qtree)\n",
    "    else:\n",
    "        pass"
   ]
  },
  {
   "cell_type": "code",
   "execution_count": null,
   "id": "32006175",
   "metadata": {},
   "outputs": [],
   "source": [
    "he_files = list()\n",
    "cy_files = list()\n",
    "all_df = list()"
   ]
  },
  {
   "cell_type": "code",
   "execution_count": null,
   "id": "a340c0d7",
   "metadata": {},
   "outputs": [],
   "source": [
    "#Create two lists, each with only HE images or only CY images \n",
    "for file in files:\n",
    "    if \"HE\" in file and not \"thumbnail\" in file:\n",
    "        he_files.append(file)\n",
    "    elif \"CK\" in file and not \"thumbnail\" in file:\n",
    "        cy_files.append(file)\n",
    "    else:\n",
    "        pass"
   ]
  },
  {
   "cell_type": "code",
   "execution_count": null,
   "id": "91f97413",
   "metadata": {},
   "outputs": [],
   "source": [
    "#Check whether both contain the same number of images \n",
    "if len(he_files) == len(cy_files):\n",
    "    print(\"TRUE\")"
   ]
  },
  {
   "cell_type": "code",
   "execution_count": null,
   "id": "1f97d5db",
   "metadata": {},
   "outputs": [],
   "source": [
    "#Iterate over both lists \n",
    "idx = 0\n",
    "path = \"/home/heckerm/data/CK/\" \n",
    "for he in range(len(he_files)):\n",
    "    for cy in range(len(cy_files)):\n",
    "        if he_files[he][:-8] == cy_files[cy][:-8]: \n",
    "            \n",
    "            qtree_idx = qtrees.index(he_files[he][:-7]+\"CY+HE.p\")\n",
    "            \n",
    "            new_row = ({'id':idx, 'he_slide':path+he_files[he], 'cy_slide':path+cy_files[cy], 'qtree':\"/home/heckerm/bachelor/registration/\"+qtrees[qtree_idx]})\n",
    "            df = pd.concat([df, pd.DataFrame([new_row])], ignore_index=True)\n",
    "            \n",
    "            idx +=1"
   ]
  },
  {
   "cell_type": "code",
   "execution_count": null,
   "id": "a9ba575c",
   "metadata": {},
   "outputs": [],
   "source": [
    "df"
   ]
  },
  {
   "cell_type": "code",
   "execution_count": null,
   "id": "9602309a",
   "metadata": {},
   "outputs": [],
   "source": [
    "df_train = df.iloc[:29,:]\n",
    "df_valid = df.iloc[29:,:]"
   ]
  },
  {
   "cell_type": "code",
   "execution_count": null,
   "id": "28777a4c",
   "metadata": {},
   "outputs": [],
   "source": [
    "df_train"
   ]
  },
  {
   "cell_type": "code",
   "execution_count": null,
   "id": "7ea64a56",
   "metadata": {},
   "outputs": [],
   "source": [
    "df_valid "
   ]
  },
  {
   "cell_type": "code",
   "execution_count": null,
   "id": "a2830579",
   "metadata": {},
   "outputs": [],
   "source": [
    "df_train.to_csv(path_or_buf=\"path_training_final.csv\", sep=\";\", index=False) \n",
    "df_valid.to_csv(path_or_buf=\"path_validation_final.csv\", sep=\";\", index=False)"
   ]
  }
 ],
 "metadata": {
  "kernelspec": {
   "display_name": "Python 3 (ipykernel)",
   "language": "python",
   "name": "python3"
  },
  "language_info": {
   "codemirror_mode": {
    "name": "ipython",
    "version": 3
   },
   "file_extension": ".py",
   "mimetype": "text/x-python",
   "name": "python",
   "nbconvert_exporter": "python",
   "pygments_lexer": "ipython3",
   "version": "3.8.10"
  }
 },
 "nbformat": 4,
 "nbformat_minor": 5
}
